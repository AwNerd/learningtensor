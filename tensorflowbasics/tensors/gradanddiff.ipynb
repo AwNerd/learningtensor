{
 "cells": [
  {
   "attachments": {},
   "cell_type": "markdown",
   "metadata": {},
   "source": [
    "<h1><b>Automatic Differentiation and Gradients</h1></b>\n",
    "<br>Automatic differentiation is useful for implementing machine learning algorithms such as backpropagation for traning neural networks.\n",
    "<br>This notebook will show you ways to compute gradients with TensorFlow."
   ]
  },
  {
   "cell_type": "code",
   "execution_count": null,
   "metadata": {},
   "outputs": [],
   "source": [
    "import numpy as np\n",
    "import matplotlib as plt\n",
    "import tensorflow as tf"
   ]
  }
 ],
 "metadata": {
  "language_info": {
   "name": "python"
  },
  "orig_nbformat": 4
 },
 "nbformat": 4,
 "nbformat_minor": 2
}
